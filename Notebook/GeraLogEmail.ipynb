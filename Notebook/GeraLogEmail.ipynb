{
 "cells": [
  {
   "cell_type": "markdown",
   "id": "39999fd1",
   "metadata": {},
   "source": [
    "# 1 - DEFINIÇÃO BIBLIOTECAS"
   ]
  },
  {
   "cell_type": "code",
   "execution_count": 5,
   "id": "52242cfa",
   "metadata": {},
   "outputs": [],
   "source": [
    "import pyodbc\n",
    "import pandas as pd\n",
    "import json\n",
    "import smtplib\n",
    "from email.mime.multipart import MIMEMultipart\n",
    "from email.mime.text import MIMEText\n",
    "from email.mime.base import MIMEBase\n",
    "from email.mime.image import MIMEImage\n",
    "from email import encoders"
   ]
  },
  {
   "cell_type": "markdown",
   "id": "017e5993",
   "metadata": {},
   "source": [
    "# 2 - LEITURA DO JSON DE PARAMETRIZAÇÃO"
   ]
  },
  {
   "cell_type": "code",
   "execution_count": 6,
   "id": "e76d6e27",
   "metadata": {},
   "outputs": [],
   "source": [
    "\n",
    "paramJson \t= \"/Notebook/Config/config.json\"\n",
    "file \t\t= open(paramJson)\n",
    "dfJson \t\t= json.load(file)\n",
    "\n",
    "\n",
    "for tag in dfJson:\n",
    "    server \t\t= dfJson[tag]['server']\n",
    "    database \t= dfJson[tag]['database']\n",
    "    username \t= dfJson[tag]['username']\n",
    "    password \t= dfJson[tag]['password']\n",
    "    fromaddr \t= dfJson[tag]['fromaddr']\n",
    "    toaddr \t\t= dfJson[tag]['toaddr']\n",
    "    chave \t\t= dfJson[tag]['chave']\n",
    "    subject \t= dfJson[tag]['subject']\n",
    "    filename \t= dfJson[tag]['filename']\n",
    "    file \t\t= dfJson[tag]['file']\n",
    "    image \t\t= dfJson[tag]['image']\n",
    "    \n"
   ]
  },
  {
   "cell_type": "markdown",
   "id": "c2e32622",
   "metadata": {},
   "source": [
    "# 3 - CONEXÃO COM SQL SERVER"
   ]
  },
  {
   "cell_type": "code",
   "execution_count": 7,
   "id": "6456ee4c",
   "metadata": {},
   "outputs": [
    {
     "name": "stderr",
     "output_type": "stream",
     "text": [
      "C:\\ProgramData\\Anaconda3\\lib\\site-packages\\pandas\\io\\sql.py:761: UserWarning: pandas only support SQLAlchemy connectable(engine/connection) ordatabase string URI or sqlite3 DBAPI2 connectionother DBAPI2 objects are not tested, please consider using SQLAlchemy\n",
      "  warnings.warn(\n"
     ]
    },
    {
     "data": {
      "text/html": [
       "<div>\n",
       "<style scoped>\n",
       "    .dataframe tbody tr th:only-of-type {\n",
       "        vertical-align: middle;\n",
       "    }\n",
       "\n",
       "    .dataframe tbody tr th {\n",
       "        vertical-align: top;\n",
       "    }\n",
       "\n",
       "    .dataframe thead th {\n",
       "        text-align: right;\n",
       "    }\n",
       "</style>\n",
       "<table border=\"1\" class=\"dataframe\">\n",
       "  <thead>\n",
       "    <tr style=\"text-align: right;\">\n",
       "      <th></th>\n",
       "      <th>IdCarga</th>\n",
       "      <th>AbrGrupo</th>\n",
       "      <th>CodRef</th>\n",
       "      <th>IdPacote</th>\n",
       "      <th>NomPacote</th>\n",
       "      <th>DthInicio</th>\n",
       "      <th>TpoExecucao</th>\n",
       "      <th>DthFim</th>\n",
       "    </tr>\n",
       "  </thead>\n",
       "  <tbody>\n",
       "  </tbody>\n",
       "</table>\n",
       "</div>"
      ],
      "text/plain": [
       "Empty DataFrame\n",
       "Columns: [IdCarga, AbrGrupo, CodRef, IdPacote, NomPacote, DthInicio, TpoExecucao, DthFim]\n",
       "Index: []"
      ]
     },
     "execution_count": 7,
     "metadata": {},
     "output_type": "execute_result"
    }
   ],
   "source": [
    "cnxn \t= pyodbc.connect('DRIVER={SQL Server};SERVER='+server+\\\n",
    "                      ';DATABASE='+database+\\\n",
    "                      ';UID='+username+\\\n",
    "                      ';PWD='+ password)\n",
    "\n",
    "cursor \t= cnxn.cursor()\n",
    "\n",
    "\n",
    "query \t= \"SELECT * FROM dbo.TB_Carga;\"\n",
    "df \t\t= pd.read_sql(query, cnxn)\n",
    "df"
   ]
  },
  {
   "cell_type": "markdown",
   "id": "0fe9f48b",
   "metadata": {},
   "source": [
    "# 4 - ENVIO E-MAIL"
   ]
  },
  {
   "cell_type": "code",
   "execution_count": 8,
   "id": "11f9f591",
   "metadata": {},
   "outputs": [
    {
     "data": {
      "text/plain": [
       "(221,\n",
       " b'2.0.0 closing connection c26-20020a9d481a000000b006849e3aff8dsm6275865otf.44 - gsmtp')"
      ]
     },
     "execution_count": 8,
     "metadata": {},
     "output_type": "execute_result"
    }
   ],
   "source": [
    "\n",
    "df.to_csv(file,sep=';',index=False)\n",
    "\n",
    "msg \t\t\t= MIMEMultipart()\n",
    "msg['From'] \t= fromaddr \n",
    "msg['To']\t\t= toaddr \n",
    "msg['Subject'] \t= subject\n",
    "filename \t\t= filename\n",
    "\n",
    "msg.attach(MIMEText('Olá, segue em anexo o relatório com os pacotes que apresentaram falha no processamento. <p><p> <img src=\"cid:image1\">', 'html'))\n",
    "image = MIMEImage(open(image, 'rb').read())\n",
    "attachment = open(file, \"rb\")\n",
    "p = MIMEBase('application', 'octet-stream')\n",
    "p.set_payload((attachment).read())\n",
    "encoders.encode_base64(p)\n",
    "image.add_header('Content-ID', '<image1>')\n",
    "msg.attach(image)\n",
    "p.add_header('Content-Disposition', \"attachment; filename= %s\" % filename)\n",
    "msg.attach(p)\n",
    "s = smtplib.SMTP('smtp.gmail.com', 587)\n",
    "s.starttls()\n",
    "s.login(fromaddr, chave)\n",
    "text = msg.as_string()\n",
    "s.sendmail(fromaddr, toaddr, text)\n",
    "s.quit() "
   ]
  }
 ],
 "metadata": {
  "celltoolbar": "Tags",
  "kernelspec": {
   "display_name": "Python 3 (ipykernel)",
   "language": "python",
   "name": "python3"
  },
  "language_info": {
   "codemirror_mode": {
    "name": "ipython",
    "version": 3
   },
   "file_extension": ".py",
   "mimetype": "text/x-python",
   "name": "python",
   "nbconvert_exporter": "python",
   "pygments_lexer": "ipython3",
   "version": "3.9.12"
  }
 },
 "nbformat": 4,
 "nbformat_minor": 5
}
