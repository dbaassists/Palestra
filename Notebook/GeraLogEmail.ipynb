{
 "cells": [
  {
   "cell_type": "markdown",
   "id": "39999fd1",
   "metadata": {},
   "source": [
    "# 1 - DEFINIÇÃO BIBLIOTECAS"
   ]
  },
  {
   "cell_type": "code",
   "execution_count": 1,
   "id": "52242cfa",
   "metadata": {},
   "outputs": [],
   "source": [
    "import pyodbc\n",
    "import pandas as pd\n",
    "import json\n",
    "import smtplib\n",
    "from email.mime.multipart import MIMEMultipart\n",
    "from email.mime.text import MIMEText\n",
    "from email.mime.base import MIMEBase\n",
    "from email.mime.image import MIMEImage\n",
    "from email import encoders"
   ]
  },
  {
   "cell_type": "markdown",
   "id": "017e5993",
   "metadata": {},
   "source": [
    "# 2 - LEITURA DO JSON DE PARAMETRIZAÇÃO"
   ]
  },
  {
   "cell_type": "code",
   "execution_count": 2,
   "id": "e76d6e27",
   "metadata": {},
   "outputs": [],
   "source": [
    "\n",
    "paramJson \t= \"/Notebook/Config/config.json\"\n",
    "file \t\t= open(paramJson)\n",
    "dfJson \t\t= json.load(file)\n",
    "\n",
    "\n",
    "for tag in dfJson:\n",
    "    server \t\t= dfJson[tag]['server']\n",
    "    database \t= dfJson[tag]['database']\n",
    "    username \t= dfJson[tag]['username']\n",
    "    password \t= dfJson[tag]['password']\n",
    "    fromaddr \t= dfJson[tag]['fromaddr']\n",
    "    toaddr \t\t= dfJson[tag]['toaddr']\n",
    "    chave \t\t= dfJson[tag]['chave']\n",
    "    subject \t= dfJson[tag]['subject']\n",
    "    filename \t= dfJson[tag]['filename']\n",
    "    file \t\t= dfJson[tag]['file']\n",
    "    image \t\t= dfJson[tag]['image']\n",
    "    \n"
   ]
  },
  {
   "cell_type": "markdown",
   "id": "c2e32622",
   "metadata": {},
   "source": [
    "# 3 - CONEXÃO COM SQL SERVER"
   ]
  },
  {
   "cell_type": "code",
   "execution_count": 3,
   "id": "6456ee4c",
   "metadata": {},
   "outputs": [
    {
     "name": "stderr",
     "output_type": "stream",
     "text": [
      "C:\\ProgramData\\Anaconda3\\lib\\site-packages\\pandas\\io\\sql.py:761: UserWarning: pandas only support SQLAlchemy connectable(engine/connection) ordatabase string URI or sqlite3 DBAPI2 connectionother DBAPI2 objects are not tested, please consider using SQLAlchemy\n",
      "  warnings.warn(\n"
     ]
    }
   ],
   "source": [
    "cnxn \t= pyodbc.connect('DRIVER={SQL Server};SERVER='+server+\\\n",
    "                      ';DATABASE='+database+\\\n",
    "                      ';UID='+username+\\\n",
    "                      ';PWD='+ password)\n",
    "\n",
    "cursor \t= cnxn.cursor()\n",
    "\n",
    "\n",
    "query \t= \"\"\"\n",
    "SELECT AbrGrupo\n",
    ", NomPacote\n",
    ", CONVERT(VARCHAR(10), DthInicio, 103) + ' ' + CONVERT(VARCHAR(10), DthInicio, 108) DthInicio\n",
    ", CONVERT(VARCHAR(10), DthFim, 103) + ' ' + CONVERT(VARCHAR(10), DthFim, 108) DthFim\n",
    ", DATEDIFF(SECOND,DthInicio,DthFim) NumTmpProcessamento \n",
    ", CASE WHEN TpoExecucao = 'I' THEN 'EM PROCESSAMENTO'\n",
    " WHEN TpoExecucao = 'E' THEN 'PROCESSAMENTO COM ERRO/EXPUGO'\n",
    "  WHEN TpoExecucao = 'F' THEN 'PROCESSADO COM SUCESSO'\n",
    "  END DscStatus\n",
    "\n",
    "FROM dbo.TB_Carga\n",
    "\n",
    "WHERE NomPacote NOT LIKE '%CONTROLADOR%'\n",
    "\n",
    "ORDER BY IdCarga;\n",
    "\"\"\"\n",
    "df \t\t= pd.read_sql(query, cnxn)"
   ]
  },
  {
   "cell_type": "code",
   "execution_count": 4,
   "id": "3506ed82",
   "metadata": {},
   "outputs": [
    {
     "data": {
      "image/png": "[encoded data removed]",
      "text/plain": [
       "<Figure size 1440x576 with 1 Axes>"
      ]
     },
     "metadata": {
      "needs_background": "light"
     },
     "output_type": "display_data"
    }
   ],
   "source": [
    "import numpy as np\n",
    "import matplotlib.pyplot as plt\n",
    "\n",
    "N = 5\n",
    "ind = np.arange(N)\n",
    "width = 0.2\n",
    "\n",
    "fig = plt.figure(figsize=(20,8))\n",
    "ax = fig.add_subplot(111)\n",
    "\n",
    "yvals = [1,1,0,0,0]\n",
    "rects1 = ax.bar(ind, yvals, width, color='#FF0000')\n",
    "\n",
    "zvals = [3,11,9,8,8]\n",
    "rects2 = ax.bar(ind+width, zvals, width, color='#00FA9A')\n",
    "\n",
    "\n",
    "ax.set_ylabel('Total de Execuções')\n",
    "plt.title('Estatística Estatística de Execução ETL - SSIS')\n",
    "ax.set_xticks(ind+width)\n",
    "ax.set_xticklabels( ('10.01.2023','11.01.2023','12.01.2023','13.01.2023','14.01.2023') )\n",
    "ax.legend( (rects1[0], rects2[0]), ('PROCESSAMENTO ERRO/EXPUGO','PROCESSADO COM SUCESSO') )\n",
    "\n",
    "def autolabel(rects):\n",
    "    for rect in rects:\n",
    "        h = rect.get_height()\n",
    "        ax.text(rect.get_x()+rect.get_width()/1.9, 1.*h, '%d'%int(h),ha='center', va='bottom')\n",
    "\n",
    "autolabel(rects1)\n",
    "autolabel(rects2)\n",
    "\n",
    "plt.xticks(rotation = 75)\n",
    "\n",
    "plt.savefig(image)\n",
    "\n",
    "plt.show()\n",
    "\n",
    "plt.close()"
   ]
  },
  {
   "cell_type": "markdown",
   "id": "0fe9f48b",
   "metadata": {},
   "source": [
    "# 4 - ENVIO E-MAIL"
   ]
  },
  {
   "cell_type": "code",
   "execution_count": 5,
   "id": "11f9f591",
   "metadata": {},
   "outputs": [
    {
     "data": {
      "text/plain": [
       "(221,\n",
       " b'2.0.0 closing connection i8-20020a056871028800b0014c83629498sm12309812oae.43 - gsmtp')"
      ]
     },
     "execution_count": 5,
     "metadata": {},
     "output_type": "execute_result"
    }
   ],
   "source": [
    "\n",
    "df.to_csv(file,sep=';',index=False)\n",
    "\n",
    "msg \t\t\t= MIMEMultipart()\n",
    "msg['From'] \t= fromaddr \n",
    "msg['To']\t\t= toaddr \n",
    "msg['Subject'] \t= subject\n",
    "filename \t\t= filename\n",
    "\n",
    "msg.attach(MIMEText('Bom dia! Segue em anexo o relatório com os pacotes que apresentaram falha no processamento. <p><p> <img src=\"cid:image1\"><p><p> Atenciosamente, <p><p>Monitoramento Jobs', 'html'))\n",
    "image = MIMEImage(open(image, 'rb').read())\n",
    "attachment = open(file, \"rb\")\n",
    "p = MIMEBase('application', 'octet-stream')\n",
    "p.set_payload((attachment).read())\n",
    "encoders.encode_base64(p)\n",
    "image.add_header('Content-ID', '<image1>')\n",
    "msg.attach(image)\n",
    "p.add_header('Content-Disposition', \"attachment; filename= %s\" % filename)\n",
    "msg.attach(p)\n",
    "s = smtplib.SMTP('smtp.gmail.com', 587)\n",
    "s.starttls()\n",
    "s.login(fromaddr, chave)\n",
    "text = msg.as_string()\n",
    "s.sendmail(fromaddr, toaddr, text)\n",
    "s.quit() "
   ]
  }
 ],
 "metadata": {
  "celltoolbar": "Tags",
  "kernelspec": {
   "display_name": "Python 3 (ipykernel)",
   "language": "python",
   "name": "python3"
  },
  "language_info": {
   "codemirror_mode": {
    "name": "ipython",
    "version": 3
   },
   "file_extension": ".py",
   "mimetype": "text/x-python",
   "name": "python",
   "nbconvert_exporter": "python",
   "pygments_lexer": "ipython3",
   "version": "3.9.12"
  }
 },
 "nbformat": 4,
 "nbformat_minor": 5
}
